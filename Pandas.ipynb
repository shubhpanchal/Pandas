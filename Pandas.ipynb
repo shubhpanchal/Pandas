{
 "cells": [
  {
   "cell_type": "markdown",
   "id": "454ff176",
   "metadata": {},
   "source": [
    "Creating a Series"
   ]
  },
  {
   "cell_type": "code",
   "execution_count": 1,
   "id": "ccc51552",
   "metadata": {},
   "outputs": [],
   "source": [
    "import pandas as pd\n",
    "import numpy as np"
   ]
  },
  {
   "cell_type": "code",
   "execution_count": 2,
   "id": "7306fcf0",
   "metadata": {},
   "outputs": [
    {
     "data": {
      "text/plain": [
       "0    a\n",
       "1    b\n",
       "2    c\n",
       "3    d\n",
       "4    e\n",
       "5    f\n",
       "dtype: object"
      ]
     },
     "execution_count": 2,
     "metadata": {},
     "output_type": "execute_result"
    }
   ],
   "source": [
    "series1 = pd.Series(list('abcdef'))\n",
    "series1"
   ]
  },
  {
   "cell_type": "code",
   "execution_count": 3,
   "id": "031a1c1b",
   "metadata": {},
   "outputs": [
    {
     "data": {
      "text/plain": [
       "0    1\n",
       "1    2\n",
       "2    3\n",
       "3    4\n",
       "4    5\n",
       "5    6\n",
       "6    7\n",
       "7    8\n",
       "8    9\n",
       "dtype: int32"
      ]
     },
     "execution_count": 3,
     "metadata": {},
     "output_type": "execute_result"
    }
   ],
   "source": [
    "np_array = np.array([1,2,3,4,5,6,7,8,9])\n",
    "series2 = pd.Series(np_array)\n",
    "series2"
   ]
  },
  {
   "cell_type": "markdown",
   "id": "1e9f0ac9",
   "metadata": {},
   "source": [
    "Creating Panda Series from a dict"
   ]
  },
  {
   "cell_type": "code",
   "execution_count": 4,
   "id": "bf1930f5",
   "metadata": {},
   "outputs": [],
   "source": [
    "dict_country_gdp = pd.Series([2255.225482,629.9553062,11601.63022,25306.82494,27266.40335,19466.99052,588.3691778,2890.345675,\n",
    "                              24733.62696,1445.760002,4803.398244,2618.876037,590.4521124,665.7982328,7122.938458,2639.54156,\n",
    "                              3362.4656,15378.16704,30860.12808,2579.115607,6525.541272,229.6769525,2242.689259,27570.4852,\n",
    "                              23016.84778,1334.646773,402.6953275,6047.200797,394.1156638,385.5793827,1414.072488,5745.981529,\n",
    "                              837.7464011,1206.991065,27715.52837,18937.24998,39578.07441,478.2194906,16684.21278,279.2204061,\n",
    "                              5345.213415,6288.25324,1908.304416,274.8728621,14646.42094,40034.85063,672.1547506,3359.517402,\n",
    "                              36152.66676,3054.727742,33529.83052,3825.093781,15428.32098,33630.24604,39170.41371,2699.123242,\n",
    "                              21058.43643,28272.40661,37691.02733,9581.05659,5671.912202,757.4009286,347.7456605],index =['Algeria',\n",
    "                            'Angola','Argentina','Australia','Austria','Bahamas','Bangladesh','Belarus','Belgium','Bhutan','Brazil',\n",
    "                            'Bulgaria','Cambodia','Cameroon','Chile','China','Colombia','Cyprus','Denmark','El Salvador','Estonia',\n",
    "                            'Ethiopia','Fiji','Finland','France','Georgia','Ghana','Grenada','Guinea','Haiti','Honduras','Hungary',\n",
    "                            'India','Indonesia','Ireland','Italy','Japan','Kenya', 'South Korea','Liberia','Malaysia','Mexico',\n",
    "                            'Morocco','Nepal','New Zealand','Norway','Pakistan', 'Peru','Qatar','Russia','Singapore','South Africa',\n",
    "                            'Spain','Sweden','Switzerland','Thailand', 'United Arab Emirates','United Kingdom','United States',\n",
    "                            'Uruguay','Venezuela','Vietnam','Zimbabwe'])"
   ]
  },
  {
   "cell_type": "code",
   "execution_count": 5,
   "id": "61e5a078",
   "metadata": {},
   "outputs": [
    {
     "name": "stdout",
     "output_type": "stream",
     "text": [
      "Algeria           2255.225482\n",
      "Angola             629.955306\n",
      "Argentina        11601.630220\n",
      "Australia        25306.824940\n",
      "Austria          27266.403350\n",
      "                     ...     \n",
      "United States    37691.027330\n",
      "Uruguay           9581.056590\n",
      "Venezuela         5671.912202\n",
      "Vietnam            757.400929\n",
      "Zimbabwe           347.745660\n",
      "Length: 63, dtype: float64\n"
     ]
    }
   ],
   "source": [
    "print(dict_country_gdp)"
   ]
  },
  {
   "cell_type": "markdown",
   "id": "ec99136d",
   "metadata": {},
   "source": [
    "Creating a series from a scalar"
   ]
  },
  {
   "cell_type": "code",
   "execution_count": 7,
   "id": "d1a0a7f1",
   "metadata": {},
   "outputs": [
    {
     "data": {
      "text/plain": [
       "a    5.0\n",
       "b    5.0\n",
       "c    5.0\n",
       "d    5.0\n",
       "e    5.0\n",
       "f    5.0\n",
       "dtype: float64"
      ]
     },
     "execution_count": 7,
     "metadata": {},
     "output_type": "execute_result"
    }
   ],
   "source": [
    "scalarSeries = pd.Series(5., index=['a','b','c','d','e','f'])\n",
    "scalarSeries"
   ]
  },
  {
   "cell_type": "markdown",
   "id": "350572b4",
   "metadata": {},
   "source": [
    "Accessing Elements in a Series"
   ]
  },
  {
   "cell_type": "code",
   "execution_count": 8,
   "id": "dea5d364",
   "metadata": {},
   "outputs": [
    {
     "data": {
      "text/plain": [
       "2255.225482"
      ]
     },
     "execution_count": 8,
     "metadata": {},
     "output_type": "execute_result"
    }
   ],
   "source": [
    "dict_country_gdp[0]"
   ]
  },
  {
   "cell_type": "code",
   "execution_count": 11,
   "id": "ee95b081",
   "metadata": {},
   "outputs": [
    {
     "data": {
      "text/plain": [
       "Algeria       2255.225482\n",
       "Angola         629.955306\n",
       "Argentina    11601.630220\n",
       "Australia    25306.824940\n",
       "Austria      27266.403350\n",
       "dtype: float64"
      ]
     },
     "execution_count": 11,
     "metadata": {},
     "output_type": "execute_result"
    }
   ],
   "source": [
    "dict_country_gdp[:5] #Accessing first five countries"
   ]
  },
  {
   "cell_type": "code",
   "execution_count": 12,
   "id": "dcd7105c",
   "metadata": {},
   "outputs": [
    {
     "data": {
      "text/plain": [
       "United States    37691.027330\n",
       "Uruguay           9581.056590\n",
       "Venezuela         5671.912202\n",
       "Vietnam            757.400929\n",
       "Zimbabwe           347.745660\n",
       "dtype: float64"
      ]
     },
     "execution_count": 12,
     "metadata": {},
     "output_type": "execute_result"
    }
   ],
   "source": [
    "dict_country_gdp[-5:] #Accessing last five countries "
   ]
  },
  {
   "cell_type": "code",
   "execution_count": 13,
   "id": "3466c295",
   "metadata": {},
   "outputs": [
    {
     "data": {
      "text/plain": [
       "837.7464011"
      ]
     },
     "execution_count": 13,
     "metadata": {},
     "output_type": "execute_result"
    }
   ],
   "source": [
    "dict_country_gdp.loc['India'] #This method is used to access the element using the value of Index"
   ]
  },
  {
   "cell_type": "code",
   "execution_count": 15,
   "id": "426994ef",
   "metadata": {},
   "outputs": [
    {
     "data": {
      "text/plain": [
       "6525.541272"
      ]
     },
     "execution_count": 15,
     "metadata": {},
     "output_type": "execute_result"
    }
   ],
   "source": [
    "dict_country_gdp.iloc[20]  #This method is used to acces the element using the Index number"
   ]
  },
  {
   "cell_type": "markdown",
   "id": "98ac33c3",
   "metadata": {},
   "source": [
    "Vectorized operations in Seriess"
   ]
  },
  {
   "cell_type": "code",
   "execution_count": 18,
   "id": "68e5469f",
   "metadata": {},
   "outputs": [],
   "source": [
    "vectorSeries1 = pd.Series([1,2,3,4,5], index =['a','b','c','d','e'])\n",
    "vectorSeries2 = pd.Series([10,20,30,40,50], index = ['a','b','c','d','e'])"
   ]
  },
  {
   "cell_type": "code",
   "execution_count": 19,
   "id": "78be2b6c",
   "metadata": {},
   "outputs": [
    {
     "data": {
      "text/plain": [
       "a    11\n",
       "b    22\n",
       "c    33\n",
       "d    44\n",
       "e    55\n",
       "dtype: int64"
      ]
     },
     "execution_count": 19,
     "metadata": {},
     "output_type": "execute_result"
    }
   ],
   "source": [
    "vectorSeries1+vectorSeries2"
   ]
  },
  {
   "cell_type": "code",
   "execution_count": null,
   "id": "57f6d6b9",
   "metadata": {},
   "outputs": [],
   "source": []
  }
 ],
 "metadata": {
  "kernelspec": {
   "display_name": "Python 3",
   "language": "python",
   "name": "python3"
  },
  "language_info": {
   "codemirror_mode": {
    "name": "ipython",
    "version": 3
   },
   "file_extension": ".py",
   "mimetype": "text/x-python",
   "name": "python",
   "nbconvert_exporter": "python",
   "pygments_lexer": "ipython3",
   "version": "3.8.8"
  }
 },
 "nbformat": 4,
 "nbformat_minor": 5
}
