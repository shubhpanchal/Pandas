{
 "cells": [
  {
   "cell_type": "markdown",
   "id": "c68b03bd",
   "metadata": {},
   "source": [
    "Creating a Series"
   ]
  },
  {
   "cell_type": "code",
   "execution_count": 106,
   "id": "2f48402d",
   "metadata": {},
   "outputs": [],
   "source": [
    "import pandas as pd\n",
    "import numpy as np"
   ]
  },
  {
   "cell_type": "code",
   "execution_count": 107,
   "id": "db87aded",
   "metadata": {},
   "outputs": [
    {
     "data": {
      "text/plain": [
       "0    a\n",
       "1    b\n",
       "2    c\n",
       "3    d\n",
       "4    e\n",
       "5    f\n",
       "dtype: object"
      ]
     },
     "execution_count": 107,
     "metadata": {},
     "output_type": "execute_result"
    }
   ],
   "source": [
    "series1 = pd.Series(list('abcdef'))\n",
    "series1"
   ]
  },
  {
   "cell_type": "code",
   "execution_count": 108,
   "id": "34ebae68",
   "metadata": {},
   "outputs": [
    {
     "data": {
      "text/plain": [
       "0    1\n",
       "1    2\n",
       "2    3\n",
       "3    4\n",
       "4    5\n",
       "5    6\n",
       "6    7\n",
       "7    8\n",
       "8    9\n",
       "dtype: int32"
      ]
     },
     "execution_count": 108,
     "metadata": {},
     "output_type": "execute_result"
    }
   ],
   "source": [
    "np_array = np.array([1,2,3,4,5,6,7,8,9])\n",
    "series2 = pd.Series(np_array)\n",
    "series2"
   ]
  },
  {
   "cell_type": "markdown",
   "id": "3d4a0ed0",
   "metadata": {},
   "source": [
    "Creating Panda Series from a dict"
   ]
  },
  {
   "cell_type": "code",
   "execution_count": 109,
   "id": "c5e7b125",
   "metadata": {},
   "outputs": [],
   "source": [
    "dict_country_gdp = pd.Series([2255.225482,629.9553062,11601.63022,25306.82494,27266.40335,19466.99052,588.3691778,2890.345675,\n",
    "                              24733.62696,1445.760002,4803.398244,2618.876037,590.4521124,665.7982328,7122.938458,2639.54156,\n",
    "                              3362.4656,15378.16704,30860.12808,2579.115607,6525.541272,229.6769525,2242.689259,27570.4852,\n",
    "                              23016.84778,1334.646773,402.6953275,6047.200797,394.1156638,385.5793827,1414.072488,5745.981529,\n",
    "                              837.7464011,1206.991065,27715.52837,18937.24998,39578.07441,478.2194906,16684.21278,279.2204061,\n",
    "                              5345.213415,6288.25324,1908.304416,274.8728621,14646.42094,40034.85063,672.1547506,3359.517402,\n",
    "                              36152.66676,3054.727742,33529.83052,3825.093781,15428.32098,33630.24604,39170.41371,2699.123242,\n",
    "                              21058.43643,28272.40661,37691.02733,9581.05659,5671.912202,757.4009286,347.7456605],index =['Algeria',\n",
    "                            'Angola','Argentina','Australia','Austria','Bahamas','Bangladesh','Belarus','Belgium','Bhutan','Brazil',\n",
    "                            'Bulgaria','Cambodia','Cameroon','Chile','China','Colombia','Cyprus','Denmark','El Salvador','Estonia',\n",
    "                            'Ethiopia','Fiji','Finland','France','Georgia','Ghana','Grenada','Guinea','Haiti','Honduras','Hungary',\n",
    "                            'India','Indonesia','Ireland','Italy','Japan','Kenya', 'South Korea','Liberia','Malaysia','Mexico',\n",
    "                            'Morocco','Nepal','New Zealand','Norway','Pakistan', 'Peru','Qatar','Russia','Singapore','South Africa',\n",
    "                            'Spain','Sweden','Switzerland','Thailand', 'United Arab Emirates','United Kingdom','United States',\n",
    "                            'Uruguay','Venezuela','Vietnam','Zimbabwe'])"
   ]
  },
  {
   "cell_type": "code",
   "execution_count": 110,
   "id": "329e9b2f",
   "metadata": {},
   "outputs": [
    {
     "name": "stdout",
     "output_type": "stream",
     "text": [
      "Algeria           2255.225482\n",
      "Angola             629.955306\n",
      "Argentina        11601.630220\n",
      "Australia        25306.824940\n",
      "Austria          27266.403350\n",
      "                     ...     \n",
      "United States    37691.027330\n",
      "Uruguay           9581.056590\n",
      "Venezuela         5671.912202\n",
      "Vietnam            757.400929\n",
      "Zimbabwe           347.745660\n",
      "Length: 63, dtype: float64\n"
     ]
    }
   ],
   "source": [
    "print(dict_country_gdp)"
   ]
  },
  {
   "cell_type": "markdown",
   "id": "1cf26959",
   "metadata": {},
   "source": [
    "Creating a series from a scalar"
   ]
  },
  {
   "cell_type": "code",
   "execution_count": 111,
   "id": "23fb2667",
   "metadata": {},
   "outputs": [
    {
     "data": {
      "text/plain": [
       "a    5.0\n",
       "b    5.0\n",
       "c    5.0\n",
       "d    5.0\n",
       "e    5.0\n",
       "f    5.0\n",
       "dtype: float64"
      ]
     },
     "execution_count": 111,
     "metadata": {},
     "output_type": "execute_result"
    }
   ],
   "source": [
    "scalarSeries = pd.Series(5., index=['a','b','c','d','e','f'])\n",
    "scalarSeries"
   ]
  },
  {
   "cell_type": "markdown",
   "id": "9a68c18c",
   "metadata": {},
   "source": [
    "Accessing Elements in a Series"
   ]
  },
  {
   "cell_type": "code",
   "execution_count": 112,
   "id": "0f47c19b",
   "metadata": {},
   "outputs": [
    {
     "data": {
      "text/plain": [
       "2255.225482"
      ]
     },
     "execution_count": 112,
     "metadata": {},
     "output_type": "execute_result"
    }
   ],
   "source": [
    "dict_country_gdp[0]"
   ]
  },
  {
   "cell_type": "code",
   "execution_count": 113,
   "id": "c1fd9633",
   "metadata": {},
   "outputs": [
    {
     "data": {
      "text/plain": [
       "Algeria       2255.225482\n",
       "Angola         629.955306\n",
       "Argentina    11601.630220\n",
       "Australia    25306.824940\n",
       "Austria      27266.403350\n",
       "dtype: float64"
      ]
     },
     "execution_count": 113,
     "metadata": {},
     "output_type": "execute_result"
    }
   ],
   "source": [
    "dict_country_gdp[:5] #Accessing first five countries"
   ]
  },
  {
   "cell_type": "code",
   "execution_count": 114,
   "id": "fe5ab5be",
   "metadata": {},
   "outputs": [
    {
     "data": {
      "text/plain": [
       "United States    37691.027330\n",
       "Uruguay           9581.056590\n",
       "Venezuela         5671.912202\n",
       "Vietnam            757.400929\n",
       "Zimbabwe           347.745660\n",
       "dtype: float64"
      ]
     },
     "execution_count": 114,
     "metadata": {},
     "output_type": "execute_result"
    }
   ],
   "source": [
    "dict_country_gdp[-5:] #Accessing last five countries "
   ]
  },
  {
   "cell_type": "code",
   "execution_count": 115,
   "id": "d3ad705c",
   "metadata": {},
   "outputs": [
    {
     "data": {
      "text/plain": [
       "837.7464011"
      ]
     },
     "execution_count": 115,
     "metadata": {},
     "output_type": "execute_result"
    }
   ],
   "source": [
    "dict_country_gdp.loc['India'] #This method is used to access the element using the value of Index"
   ]
  },
  {
   "cell_type": "code",
   "execution_count": 116,
   "id": "7d6cb993",
   "metadata": {},
   "outputs": [
    {
     "data": {
      "text/plain": [
       "6525.541272"
      ]
     },
     "execution_count": 116,
     "metadata": {},
     "output_type": "execute_result"
    }
   ],
   "source": [
    "dict_country_gdp.iloc[20]  #This method is used to acces the element using the Index number"
   ]
  },
  {
   "cell_type": "markdown",
   "id": "dd4e1cc5",
   "metadata": {},
   "source": [
    "Vectorized operations in Seriess"
   ]
  },
  {
   "cell_type": "code",
   "execution_count": 117,
   "id": "a8868c30",
   "metadata": {},
   "outputs": [],
   "source": [
    "vectorSeries1 = pd.Series([1,2,3,4,5], index =['a','b','c','d','e'])\n",
    "vectorSeries2 = pd.Series([10,20,30,40,50], index = ['a','b','c','d','e'])"
   ]
  },
  {
   "cell_type": "code",
   "execution_count": 118,
   "id": "4d3b3fc5",
   "metadata": {},
   "outputs": [
    {
     "data": {
      "text/plain": [
       "a    11\n",
       "b    22\n",
       "c    33\n",
       "d    44\n",
       "e    55\n",
       "dtype: int64"
      ]
     },
     "execution_count": 118,
     "metadata": {},
     "output_type": "execute_result"
    }
   ],
   "source": [
    "vectorSeries1+vectorSeries2"
   ]
  },
  {
   "cell_type": "markdown",
   "id": "b95d8d45",
   "metadata": {},
   "source": [
    "Creating a DataFrame from Lists"
   ]
  },
  {
   "cell_type": "code",
   "execution_count": 119,
   "id": "d71943d2",
   "metadata": {},
   "outputs": [],
   "source": [
    "import pandas as pd"
   ]
  },
  {
   "cell_type": "code",
   "execution_count": 120,
   "id": "de87cba7",
   "metadata": {},
   "outputs": [],
   "source": [
    "#Create a DataFrame from dict of lists of equal leangth\n",
    "olympicDataList = {'HostCity': ['London','Beijing','Athens','Sydney','Atlanta'],\n",
    "                  'Year': [2012,2008,2004,2000,1996],\n",
    "                  'No. of Participants': [205,204,201,200,197]}"
   ]
  },
  {
   "cell_type": "code",
   "execution_count": 121,
   "id": "67fe5ea0",
   "metadata": {},
   "outputs": [
    {
     "data": {
      "text/html": [
       "<div>\n",
       "<style scoped>\n",
       "    .dataframe tbody tr th:only-of-type {\n",
       "        vertical-align: middle;\n",
       "    }\n",
       "\n",
       "    .dataframe tbody tr th {\n",
       "        vertical-align: top;\n",
       "    }\n",
       "\n",
       "    .dataframe thead th {\n",
       "        text-align: right;\n",
       "    }\n",
       "</style>\n",
       "<table border=\"1\" class=\"dataframe\">\n",
       "  <thead>\n",
       "    <tr style=\"text-align: right;\">\n",
       "      <th></th>\n",
       "      <th>HostCity</th>\n",
       "      <th>Year</th>\n",
       "      <th>No. of Participants</th>\n",
       "    </tr>\n",
       "  </thead>\n",
       "  <tbody>\n",
       "    <tr>\n",
       "      <th>0</th>\n",
       "      <td>London</td>\n",
       "      <td>2012</td>\n",
       "      <td>205</td>\n",
       "    </tr>\n",
       "    <tr>\n",
       "      <th>1</th>\n",
       "      <td>Beijing</td>\n",
       "      <td>2008</td>\n",
       "      <td>204</td>\n",
       "    </tr>\n",
       "    <tr>\n",
       "      <th>2</th>\n",
       "      <td>Athens</td>\n",
       "      <td>2004</td>\n",
       "      <td>201</td>\n",
       "    </tr>\n",
       "    <tr>\n",
       "      <th>3</th>\n",
       "      <td>Sydney</td>\n",
       "      <td>2000</td>\n",
       "      <td>200</td>\n",
       "    </tr>\n",
       "    <tr>\n",
       "      <th>4</th>\n",
       "      <td>Atlanta</td>\n",
       "      <td>1996</td>\n",
       "      <td>197</td>\n",
       "    </tr>\n",
       "  </tbody>\n",
       "</table>\n",
       "</div>"
      ],
      "text/plain": [
       "  HostCity  Year  No. of Participants\n",
       "0   London  2012                  205\n",
       "1  Beijing  2008                  204\n",
       "2   Athens  2004                  201\n",
       "3   Sydney  2000                  200\n",
       "4  Atlanta  1996                  197"
      ]
     },
     "execution_count": 121,
     "metadata": {},
     "output_type": "execute_result"
    }
   ],
   "source": [
    "df_olympicData = pd.DataFrame(olympicDataList)\n",
    "df_olympicData"
   ]
  },
  {
   "cell_type": "code",
   "execution_count": 122,
   "id": "eca56b21",
   "metadata": {},
   "outputs": [
    {
     "data": {
      "text/plain": [
       "0     London\n",
       "1    Beijing\n",
       "2     Athens\n",
       "3     Sydney\n",
       "4    Atlanta\n",
       "Name: HostCity, dtype: object"
      ]
     },
     "execution_count": 122,
     "metadata": {},
     "output_type": "execute_result"
    }
   ],
   "source": [
    "df_olympicData.HostCity"
   ]
  },
  {
   "cell_type": "code",
   "execution_count": 123,
   "id": "2580e42b",
   "metadata": {},
   "outputs": [
    {
     "data": {
      "text/html": [
       "<div>\n",
       "<style scoped>\n",
       "    .dataframe tbody tr th:only-of-type {\n",
       "        vertical-align: middle;\n",
       "    }\n",
       "\n",
       "    .dataframe tbody tr th {\n",
       "        vertical-align: top;\n",
       "    }\n",
       "\n",
       "    .dataframe thead th {\n",
       "        text-align: right;\n",
       "    }\n",
       "</style>\n",
       "<table border=\"1\" class=\"dataframe\">\n",
       "  <thead>\n",
       "    <tr style=\"text-align: right;\">\n",
       "      <th></th>\n",
       "      <th>Year</th>\n",
       "      <th>No. of Participants</th>\n",
       "    </tr>\n",
       "  </thead>\n",
       "  <tbody>\n",
       "    <tr>\n",
       "      <th>count</th>\n",
       "      <td>5.000000</td>\n",
       "      <td>5.000000</td>\n",
       "    </tr>\n",
       "    <tr>\n",
       "      <th>mean</th>\n",
       "      <td>2004.000000</td>\n",
       "      <td>201.400000</td>\n",
       "    </tr>\n",
       "    <tr>\n",
       "      <th>std</th>\n",
       "      <td>6.324555</td>\n",
       "      <td>3.209361</td>\n",
       "    </tr>\n",
       "    <tr>\n",
       "      <th>min</th>\n",
       "      <td>1996.000000</td>\n",
       "      <td>197.000000</td>\n",
       "    </tr>\n",
       "    <tr>\n",
       "      <th>25%</th>\n",
       "      <td>2000.000000</td>\n",
       "      <td>200.000000</td>\n",
       "    </tr>\n",
       "    <tr>\n",
       "      <th>50%</th>\n",
       "      <td>2004.000000</td>\n",
       "      <td>201.000000</td>\n",
       "    </tr>\n",
       "    <tr>\n",
       "      <th>75%</th>\n",
       "      <td>2008.000000</td>\n",
       "      <td>204.000000</td>\n",
       "    </tr>\n",
       "    <tr>\n",
       "      <th>max</th>\n",
       "      <td>2012.000000</td>\n",
       "      <td>205.000000</td>\n",
       "    </tr>\n",
       "  </tbody>\n",
       "</table>\n",
       "</div>"
      ],
      "text/plain": [
       "              Year  No. of Participants\n",
       "count     5.000000             5.000000\n",
       "mean   2004.000000           201.400000\n",
       "std       6.324555             3.209361\n",
       "min    1996.000000           197.000000\n",
       "25%    2000.000000           200.000000\n",
       "50%    2004.000000           201.000000\n",
       "75%    2008.000000           204.000000\n",
       "max    2012.000000           205.000000"
      ]
     },
     "execution_count": 123,
     "metadata": {},
     "output_type": "execute_result"
    }
   ],
   "source": [
    "df_olympicData.describe()"
   ]
  },
  {
   "cell_type": "code",
   "execution_count": 124,
   "id": "b9db75fd",
   "metadata": {},
   "outputs": [],
   "source": [
    "#Create a DataFrame from Dict\n",
    "df_olympicData = {'London': {2012:205},'Beijing':{2008:204}}"
   ]
  },
  {
   "cell_type": "code",
   "execution_count": 125,
   "id": "0cce0738",
   "metadata": {},
   "outputs": [
    {
     "data": {
      "text/html": [
       "<div>\n",
       "<style scoped>\n",
       "    .dataframe tbody tr th:only-of-type {\n",
       "        vertical-align: middle;\n",
       "    }\n",
       "\n",
       "    .dataframe tbody tr th {\n",
       "        vertical-align: top;\n",
       "    }\n",
       "\n",
       "    .dataframe thead th {\n",
       "        text-align: right;\n",
       "    }\n",
       "</style>\n",
       "<table border=\"1\" class=\"dataframe\">\n",
       "  <thead>\n",
       "    <tr style=\"text-align: right;\">\n",
       "      <th></th>\n",
       "      <th>London</th>\n",
       "      <th>Beijing</th>\n",
       "    </tr>\n",
       "  </thead>\n",
       "  <tbody>\n",
       "    <tr>\n",
       "      <th>2012</th>\n",
       "      <td>205.0</td>\n",
       "      <td>NaN</td>\n",
       "    </tr>\n",
       "    <tr>\n",
       "      <th>2008</th>\n",
       "      <td>NaN</td>\n",
       "      <td>204.0</td>\n",
       "    </tr>\n",
       "  </tbody>\n",
       "</table>\n",
       "</div>"
      ],
      "text/plain": [
       "      London  Beijing\n",
       "2012   205.0      NaN\n",
       "2008     NaN    204.0"
      ]
     },
     "execution_count": 125,
     "metadata": {},
     "output_type": "execute_result"
    }
   ],
   "source": [
    "df_olympicDataDict =pd.DataFrame(olympicDataDict)\n",
    "df_olympicDataDict"
   ]
  },
  {
   "cell_type": "markdown",
   "id": "a95de380",
   "metadata": {},
   "source": [
    "Creating a DataFrame from Seriess"
   ]
  },
  {
   "cell_type": "code",
   "execution_count": 126,
   "id": "d24df6c5",
   "metadata": {},
   "outputs": [],
   "source": [
    "olympicSeriesParticipation = pd.Series([205,204,201,200,197], index = [2012,2008,2004,2000,1996])\n",
    "olympicSeriesCountry = pd.Series(['London','Beijing','Athens','Sydney','Atlanta'], index = [2012,2008,2004,2000,1996])"
   ]
  },
  {
   "cell_type": "code",
   "execution_count": 127,
   "id": "ef3c570c",
   "metadata": {},
   "outputs": [],
   "source": [
    "df_olympicSeries = pd.DataFrame({'No. Of Participants':olympicSeriesParticipation, 'HostCity':olympicSeriesCountry})"
   ]
  },
  {
   "cell_type": "code",
   "execution_count": 128,
   "id": "ffa5e5de",
   "metadata": {},
   "outputs": [
    {
     "data": {
      "text/html": [
       "<div>\n",
       "<style scoped>\n",
       "    .dataframe tbody tr th:only-of-type {\n",
       "        vertical-align: middle;\n",
       "    }\n",
       "\n",
       "    .dataframe tbody tr th {\n",
       "        vertical-align: top;\n",
       "    }\n",
       "\n",
       "    .dataframe thead th {\n",
       "        text-align: right;\n",
       "    }\n",
       "</style>\n",
       "<table border=\"1\" class=\"dataframe\">\n",
       "  <thead>\n",
       "    <tr style=\"text-align: right;\">\n",
       "      <th></th>\n",
       "      <th>No. Of Participants</th>\n",
       "      <th>HostCity</th>\n",
       "    </tr>\n",
       "  </thead>\n",
       "  <tbody>\n",
       "    <tr>\n",
       "      <th>2012</th>\n",
       "      <td>205</td>\n",
       "      <td>London</td>\n",
       "    </tr>\n",
       "    <tr>\n",
       "      <th>2008</th>\n",
       "      <td>204</td>\n",
       "      <td>Beijing</td>\n",
       "    </tr>\n",
       "    <tr>\n",
       "      <th>2004</th>\n",
       "      <td>201</td>\n",
       "      <td>Athens</td>\n",
       "    </tr>\n",
       "    <tr>\n",
       "      <th>2000</th>\n",
       "      <td>200</td>\n",
       "      <td>Sydney</td>\n",
       "    </tr>\n",
       "    <tr>\n",
       "      <th>1996</th>\n",
       "      <td>197</td>\n",
       "      <td>Atlanta</td>\n",
       "    </tr>\n",
       "  </tbody>\n",
       "</table>\n",
       "</div>"
      ],
      "text/plain": [
       "      No. Of Participants HostCity\n",
       "2012                  205   London\n",
       "2008                  204  Beijing\n",
       "2004                  201   Athens\n",
       "2000                  200   Sydney\n",
       "1996                  197  Atlanta"
      ]
     },
     "execution_count": 128,
     "metadata": {},
     "output_type": "execute_result"
    }
   ],
   "source": [
    "df_olympicSeries"
   ]
  },
  {
   "cell_type": "markdown",
   "id": "b9ec5491",
   "metadata": {},
   "source": [
    "Create a DataFrame from ndarray"
   ]
  },
  {
   "cell_type": "code",
   "execution_count": 129,
   "id": "956dbbf7",
   "metadata": {},
   "outputs": [],
   "source": [
    "import numpy as np"
   ]
  },
  {
   "cell_type": "code",
   "execution_count": 130,
   "id": "8f791592",
   "metadata": {},
   "outputs": [
    {
     "data": {
      "text/html": [
       "<div>\n",
       "<style scoped>\n",
       "    .dataframe tbody tr th:only-of-type {\n",
       "        vertical-align: middle;\n",
       "    }\n",
       "\n",
       "    .dataframe tbody tr th {\n",
       "        vertical-align: top;\n",
       "    }\n",
       "\n",
       "    .dataframe thead th {\n",
       "        text-align: right;\n",
       "    }\n",
       "</style>\n",
       "<table border=\"1\" class=\"dataframe\">\n",
       "  <thead>\n",
       "    <tr style=\"text-align: right;\">\n",
       "      <th></th>\n",
       "      <th>Year</th>\n",
       "    </tr>\n",
       "  </thead>\n",
       "  <tbody>\n",
       "    <tr>\n",
       "      <th>0</th>\n",
       "      <td>2012</td>\n",
       "    </tr>\n",
       "    <tr>\n",
       "      <th>1</th>\n",
       "      <td>2008</td>\n",
       "    </tr>\n",
       "    <tr>\n",
       "      <th>2</th>\n",
       "      <td>2004</td>\n",
       "    </tr>\n",
       "    <tr>\n",
       "      <th>3</th>\n",
       "      <td>2000</td>\n",
       "    </tr>\n",
       "    <tr>\n",
       "      <th>4</th>\n",
       "      <td>1996</td>\n",
       "    </tr>\n",
       "  </tbody>\n",
       "</table>\n",
       "</div>"
      ],
      "text/plain": [
       "   Year\n",
       "0  2012\n",
       "1  2008\n",
       "2  2004\n",
       "3  2000\n",
       "4  1996"
      ]
     },
     "execution_count": 130,
     "metadata": {},
     "output_type": "execute_result"
    }
   ],
   "source": [
    "np_array = np.array([2012,2008,2004,2000,1996])\n",
    "dict_ndarray = {'Year':np_array}\n",
    "df_ndarray = pd.DataFrame(dict_ndarray)\n",
    "df_ndarray"
   ]
  },
  {
   "cell_type": "markdown",
   "id": "ceba0c6a",
   "metadata": {},
   "source": [
    "View and Select Data"
   ]
  },
  {
   "cell_type": "code",
   "execution_count": 131,
   "id": "44d89b54",
   "metadata": {},
   "outputs": [],
   "source": [
    "#Import libraries\n",
    "import numpy as np\n",
    "import pandas as pd"
   ]
  },
  {
   "cell_type": "code",
   "execution_count": 132,
   "id": "4399b5c7",
   "metadata": {},
   "outputs": [
    {
     "data": {
      "text/html": [
       "<div>\n",
       "<style scoped>\n",
       "    .dataframe tbody tr th:only-of-type {\n",
       "        vertical-align: middle;\n",
       "    }\n",
       "\n",
       "    .dataframe tbody tr th {\n",
       "        vertical-align: top;\n",
       "    }\n",
       "\n",
       "    .dataframe thead th {\n",
       "        text-align: right;\n",
       "    }\n",
       "</style>\n",
       "<table border=\"1\" class=\"dataframe\">\n",
       "  <thead>\n",
       "    <tr style=\"text-align: right;\">\n",
       "      <th></th>\n",
       "      <th>HostCity</th>\n",
       "      <th>No. Of Participants</th>\n",
       "    </tr>\n",
       "  </thead>\n",
       "  <tbody>\n",
       "    <tr>\n",
       "      <th>2012</th>\n",
       "      <td>London</td>\n",
       "      <td>205</td>\n",
       "    </tr>\n",
       "    <tr>\n",
       "      <th>2008</th>\n",
       "      <td>Beijing</td>\n",
       "      <td>204</td>\n",
       "    </tr>\n",
       "    <tr>\n",
       "      <th>2004</th>\n",
       "      <td>Athens</td>\n",
       "      <td>201</td>\n",
       "    </tr>\n",
       "    <tr>\n",
       "      <th>2000</th>\n",
       "      <td>Sydney</td>\n",
       "      <td>200</td>\n",
       "    </tr>\n",
       "    <tr>\n",
       "      <th>1996</th>\n",
       "      <td>Atlanta</td>\n",
       "      <td>197</td>\n",
       "    </tr>\n",
       "  </tbody>\n",
       "</table>\n",
       "</div>"
      ],
      "text/plain": [
       "     HostCity  No. Of Participants\n",
       "2012   London                  205\n",
       "2008  Beijing                  204\n",
       "2004   Athens                  201\n",
       "2000   Sydney                  200\n",
       "1996  Atlanta                  197"
      ]
     },
     "execution_count": 132,
     "metadata": {},
     "output_type": "execute_result"
    }
   ],
   "source": [
    "#Creating a DataFrame from the dict of Series\n",
    "olympicSeriesParticipation = pd.Series([205,204,201,200,197], index = [2012,2008,2004,2000,1996])\n",
    "olympicSeriesCountry = pd.Series(['London','Beijing','Athens','Sydney','Atlanta'], index = [2012,2008,2004,2000,1996])\n",
    "df_olympicSeries = pd.DataFrame({'HostCity':olympicSeriesCountry,'No. Of Participants':olympicSeriesParticipation})\n",
    "df_olympicSeries"
   ]
  },
  {
   "cell_type": "code",
   "execution_count": 133,
   "id": "da749cd6",
   "metadata": {},
   "outputs": [
    {
     "data": {
      "text/plain": [
       "<bound method NDFrame.describe of      HostCity  No. Of Participants\n",
       "2012   London                  205\n",
       "2008  Beijing                  204\n",
       "2004   Athens                  201\n",
       "2000   Sydney                  200\n",
       "1996  Atlanta                  197>"
      ]
     },
     "execution_count": 133,
     "metadata": {},
     "output_type": "execute_result"
    }
   ],
   "source": [
    "#View DataFrame describe\n",
    "df_olympicSeries.describe\n",
    "#This will display entire content of the DataFrame as an output"
   ]
  },
  {
   "cell_type": "code",
   "execution_count": 134,
   "id": "ee659828",
   "metadata": {},
   "outputs": [
    {
     "data": {
      "text/html": [
       "<div>\n",
       "<style scoped>\n",
       "    .dataframe tbody tr th:only-of-type {\n",
       "        vertical-align: middle;\n",
       "    }\n",
       "\n",
       "    .dataframe tbody tr th {\n",
       "        vertical-align: top;\n",
       "    }\n",
       "\n",
       "    .dataframe thead th {\n",
       "        text-align: right;\n",
       "    }\n",
       "</style>\n",
       "<table border=\"1\" class=\"dataframe\">\n",
       "  <thead>\n",
       "    <tr style=\"text-align: right;\">\n",
       "      <th></th>\n",
       "      <th>No. Of Participants</th>\n",
       "    </tr>\n",
       "  </thead>\n",
       "  <tbody>\n",
       "    <tr>\n",
       "      <th>count</th>\n",
       "      <td>5.000000</td>\n",
       "    </tr>\n",
       "    <tr>\n",
       "      <th>mean</th>\n",
       "      <td>201.400000</td>\n",
       "    </tr>\n",
       "    <tr>\n",
       "      <th>std</th>\n",
       "      <td>3.209361</td>\n",
       "    </tr>\n",
       "    <tr>\n",
       "      <th>min</th>\n",
       "      <td>197.000000</td>\n",
       "    </tr>\n",
       "    <tr>\n",
       "      <th>25%</th>\n",
       "      <td>200.000000</td>\n",
       "    </tr>\n",
       "    <tr>\n",
       "      <th>50%</th>\n",
       "      <td>201.000000</td>\n",
       "    </tr>\n",
       "    <tr>\n",
       "      <th>75%</th>\n",
       "      <td>204.000000</td>\n",
       "    </tr>\n",
       "    <tr>\n",
       "      <th>max</th>\n",
       "      <td>205.000000</td>\n",
       "    </tr>\n",
       "  </tbody>\n",
       "</table>\n",
       "</div>"
      ],
      "text/plain": [
       "       No. Of Participants\n",
       "count             5.000000\n",
       "mean            201.400000\n",
       "std               3.209361\n",
       "min             197.000000\n",
       "25%             200.000000\n",
       "50%             201.000000\n",
       "75%             204.000000\n",
       "max             205.000000"
      ]
     },
     "execution_count": 134,
     "metadata": {},
     "output_type": "execute_result"
    }
   ],
   "source": [
    "#View DataFrame statisctical Properties\n",
    "df_olympicSeries.describe()\n",
    "#This will desplay the statictical properties of all the columns that have numeric values"
   ]
  },
  {
   "cell_type": "code",
   "execution_count": 135,
   "id": "bbc696f3",
   "metadata": {},
   "outputs": [
    {
     "data": {
      "text/html": [
       "<div>\n",
       "<style scoped>\n",
       "    .dataframe tbody tr th:only-of-type {\n",
       "        vertical-align: middle;\n",
       "    }\n",
       "\n",
       "    .dataframe tbody tr th {\n",
       "        vertical-align: top;\n",
       "    }\n",
       "\n",
       "    .dataframe thead th {\n",
       "        text-align: right;\n",
       "    }\n",
       "</style>\n",
       "<table border=\"1\" class=\"dataframe\">\n",
       "  <thead>\n",
       "    <tr style=\"text-align: right;\">\n",
       "      <th></th>\n",
       "      <th>HostCity</th>\n",
       "      <th>No. Of Participants</th>\n",
       "    </tr>\n",
       "  </thead>\n",
       "  <tbody>\n",
       "    <tr>\n",
       "      <th>2012</th>\n",
       "      <td>London</td>\n",
       "      <td>205</td>\n",
       "    </tr>\n",
       "    <tr>\n",
       "      <th>2008</th>\n",
       "      <td>Beijing</td>\n",
       "      <td>204</td>\n",
       "    </tr>\n",
       "  </tbody>\n",
       "</table>\n",
       "</div>"
      ],
      "text/plain": [
       "     HostCity  No. Of Participants\n",
       "2012   London                  205\n",
       "2008  Beijing                  204"
      ]
     },
     "execution_count": 135,
     "metadata": {},
     "output_type": "execute_result"
    }
   ],
   "source": [
    "#View top 2 rows\n",
    "df_olympicSeries.head(2)"
   ]
  },
  {
   "cell_type": "code",
   "execution_count": 136,
   "id": "f5199a60",
   "metadata": {},
   "outputs": [
    {
     "data": {
      "text/html": [
       "<div>\n",
       "<style scoped>\n",
       "    .dataframe tbody tr th:only-of-type {\n",
       "        vertical-align: middle;\n",
       "    }\n",
       "\n",
       "    .dataframe tbody tr th {\n",
       "        vertical-align: top;\n",
       "    }\n",
       "\n",
       "    .dataframe thead th {\n",
       "        text-align: right;\n",
       "    }\n",
       "</style>\n",
       "<table border=\"1\" class=\"dataframe\">\n",
       "  <thead>\n",
       "    <tr style=\"text-align: right;\">\n",
       "      <th></th>\n",
       "      <th>HostCity</th>\n",
       "      <th>No. Of Participants</th>\n",
       "    </tr>\n",
       "  </thead>\n",
       "  <tbody>\n",
       "    <tr>\n",
       "      <th>2004</th>\n",
       "      <td>Athens</td>\n",
       "      <td>201</td>\n",
       "    </tr>\n",
       "    <tr>\n",
       "      <th>2000</th>\n",
       "      <td>Sydney</td>\n",
       "      <td>200</td>\n",
       "    </tr>\n",
       "    <tr>\n",
       "      <th>1996</th>\n",
       "      <td>Atlanta</td>\n",
       "      <td>197</td>\n",
       "    </tr>\n",
       "  </tbody>\n",
       "</table>\n",
       "</div>"
      ],
      "text/plain": [
       "     HostCity  No. Of Participants\n",
       "2004   Athens                  201\n",
       "2000   Sydney                  200\n",
       "1996  Atlanta                  197"
      ]
     },
     "execution_count": 136,
     "metadata": {},
     "output_type": "execute_result"
    }
   ],
   "source": [
    "#View bottom 3 rows\n",
    "df_olympicSeries.tail(3)"
   ]
  },
  {
   "cell_type": "code",
   "execution_count": 137,
   "id": "394c9d9d",
   "metadata": {},
   "outputs": [
    {
     "data": {
      "text/plain": [
       "Int64Index([2012, 2008, 2004, 2000, 1996], dtype='int64')"
      ]
     },
     "execution_count": 137,
     "metadata": {},
     "output_type": "execute_result"
    }
   ],
   "source": [
    "#View indexes of Datasets\n",
    "df_olympicSeries.index"
   ]
  },
  {
   "cell_type": "code",
   "execution_count": 138,
   "id": "0617465d",
   "metadata": {},
   "outputs": [
    {
     "data": {
      "text/plain": [
       "Index(['HostCity', 'No. Of Participants'], dtype='object')"
      ]
     },
     "execution_count": 138,
     "metadata": {},
     "output_type": "execute_result"
    }
   ],
   "source": [
    "#View columns of the DataSet\n",
    "df_olympicSeries.columns"
   ]
  },
  {
   "cell_type": "markdown",
   "id": "e28e7154",
   "metadata": {},
   "source": [
    "Select Data"
   ]
  },
  {
   "cell_type": "code",
   "execution_count": 139,
   "id": "ec2dd75c",
   "metadata": {},
   "outputs": [
    {
     "data": {
      "text/plain": [
       "2012     London\n",
       "2008    Beijing\n",
       "2004     Athens\n",
       "2000     Sydney\n",
       "1996    Atlanta\n",
       "Name: HostCity, dtype: object"
      ]
     },
     "execution_count": 139,
     "metadata": {},
     "output_type": "execute_result"
    }
   ],
   "source": [
    "#Select Data for HostCities\n",
    "df_olympicSeries['HostCity']"
   ]
  },
  {
   "cell_type": "code",
   "execution_count": 140,
   "id": "8e9d2c7e",
   "metadata": {},
   "outputs": [
    {
     "data": {
      "text/plain": [
       "2012    205\n",
       "2008    204\n",
       "2004    201\n",
       "2000    200\n",
       "1996    197\n",
       "Name: No. Of Participants, dtype: int64"
      ]
     },
     "execution_count": 140,
     "metadata": {},
     "output_type": "execute_result"
    }
   ],
   "source": [
    "#select data for No.of Participants\n",
    "df_olympicSeries['No. Of Participants']"
   ]
  },
  {
   "cell_type": "code",
   "execution_count": 141,
   "id": "98c8b3b9",
   "metadata": {},
   "outputs": [
    {
     "data": {
      "text/plain": [
       "HostCity               London\n",
       "No. Of Participants       205\n",
       "Name: 2012, dtype: object"
      ]
     },
     "execution_count": 141,
     "metadata": {},
     "output_type": "execute_result"
    }
   ],
   "source": [
    "#select Lable-location based access by label\n",
    "df_olympicSeries.loc[2012]"
   ]
  },
  {
   "cell_type": "code",
   "execution_count": 142,
   "id": "f19838b2",
   "metadata": {},
   "outputs": [
    {
     "data": {
      "text/html": [
       "<div>\n",
       "<style scoped>\n",
       "    .dataframe tbody tr th:only-of-type {\n",
       "        vertical-align: middle;\n",
       "    }\n",
       "\n",
       "    .dataframe tbody tr th {\n",
       "        vertical-align: top;\n",
       "    }\n",
       "\n",
       "    .dataframe thead th {\n",
       "        text-align: right;\n",
       "    }\n",
       "</style>\n",
       "<table border=\"1\" class=\"dataframe\">\n",
       "  <thead>\n",
       "    <tr style=\"text-align: right;\">\n",
       "      <th></th>\n",
       "      <th>HostCity</th>\n",
       "      <th>No. Of Participants</th>\n",
       "    </tr>\n",
       "  </thead>\n",
       "  <tbody>\n",
       "    <tr>\n",
       "      <th>2012</th>\n",
       "      <td>London</td>\n",
       "      <td>205</td>\n",
       "    </tr>\n",
       "    <tr>\n",
       "      <th>2008</th>\n",
       "      <td>Beijing</td>\n",
       "      <td>204</td>\n",
       "    </tr>\n",
       "  </tbody>\n",
       "</table>\n",
       "</div>"
      ],
      "text/plain": [
       "     HostCity  No. Of Participants\n",
       "2012   London                  205\n",
       "2008  Beijing                  204"
      ]
     },
     "execution_count": 142,
     "metadata": {},
     "output_type": "execute_result"
    }
   ],
   "source": [
    "#Integer-locatiom based indexing by position\n",
    "df_olympicSeries.iloc[:2]"
   ]
  },
  {
   "cell_type": "code",
   "execution_count": 143,
   "id": "3555410f",
   "metadata": {},
   "outputs": [
    {
     "data": {
      "text/plain": [
       "200"
      ]
     },
     "execution_count": 143,
     "metadata": {},
     "output_type": "execute_result"
    }
   ],
   "source": [
    "#Integer-location based data selection by index value\n",
    "df_olympicSeries.iat[3,1]"
   ]
  },
  {
   "cell_type": "code",
   "execution_count": 144,
   "id": "c775dae6",
   "metadata": {},
   "outputs": [
    {
     "data": {
      "text/html": [
       "<div>\n",
       "<style scoped>\n",
       "    .dataframe tbody tr th:only-of-type {\n",
       "        vertical-align: middle;\n",
       "    }\n",
       "\n",
       "    .dataframe tbody tr th {\n",
       "        vertical-align: top;\n",
       "    }\n",
       "\n",
       "    .dataframe thead th {\n",
       "        text-align: right;\n",
       "    }\n",
       "</style>\n",
       "<table border=\"1\" class=\"dataframe\">\n",
       "  <thead>\n",
       "    <tr style=\"text-align: right;\">\n",
       "      <th></th>\n",
       "      <th>HostCity</th>\n",
       "      <th>No. Of Participants</th>\n",
       "    </tr>\n",
       "  </thead>\n",
       "  <tbody>\n",
       "    <tr>\n",
       "      <th>2012</th>\n",
       "      <td>London</td>\n",
       "      <td>205</td>\n",
       "    </tr>\n",
       "    <tr>\n",
       "      <th>2008</th>\n",
       "      <td>Beijing</td>\n",
       "      <td>204</td>\n",
       "    </tr>\n",
       "    <tr>\n",
       "      <th>2004</th>\n",
       "      <td>Athens</td>\n",
       "      <td>201</td>\n",
       "    </tr>\n",
       "  </tbody>\n",
       "</table>\n",
       "</div>"
      ],
      "text/plain": [
       "     HostCity  No. Of Participants\n",
       "2012   London                  205\n",
       "2008  Beijing                  204\n",
       "2004   Athens                  201"
      ]
     },
     "execution_count": 144,
     "metadata": {},
     "output_type": "execute_result"
    }
   ],
   "source": [
    "#Select data element by condition where there is huge data using boolean expression\n",
    "df_olympicSeries[df_olympicSeries['No. Of Participants']>200]"
   ]
  },
  {
   "cell_type": "markdown",
   "id": "d8188095",
   "metadata": {},
   "source": [
    "Missing Values.\\\n",
    "Various factors may lead to missing data:\\\n",
    "1.Data not provided at source.\\\n",
    "2.Software Issue.\\\n",
    "3.Data Integration Issue.\\\n",
    "4.Network Issue."
   ]
  },
  {
   "cell_type": "markdown",
   "id": "1b2c6154",
   "metadata": {},
   "source": [
    "Handling Missing Values"
   ]
  },
  {
   "cell_type": "code",
   "execution_count": 145,
   "id": "9728087d",
   "metadata": {},
   "outputs": [],
   "source": [
    "import pandas as pd"
   ]
  },
  {
   "cell_type": "code",
   "execution_count": 146,
   "id": "31c6ad1f",
   "metadata": {},
   "outputs": [],
   "source": [
    "#declare first series\n",
    "series1 = pd.Series([1,2,3,4,5], index = ['a','b','c','d','e'])\n",
    "#declare second series\n",
    "series2 = pd.Series([10,20,30,40,50], index = ['c','e','f','g','h'])"
   ]
  },
  {
   "cell_type": "code",
   "execution_count": 147,
   "id": "dd4f9aa1",
   "metadata": {},
   "outputs": [
    {
     "data": {
      "text/plain": [
       "a     NaN\n",
       "b     NaN\n",
       "c    13.0\n",
       "d     NaN\n",
       "e    25.0\n",
       "f     NaN\n",
       "g     NaN\n",
       "h     NaN\n",
       "dtype: float64"
      ]
     },
     "execution_count": 147,
     "metadata": {},
     "output_type": "execute_result"
    }
   ],
   "source": [
    "seriesSum = series1 + series2\n",
    "seriesSum"
   ]
  },
  {
   "cell_type": "markdown",
   "id": "3875b3df",
   "metadata": {},
   "source": [
    "dropna function drops all the values with uncommom indicies"
   ]
  },
  {
   "cell_type": "code",
   "execution_count": 148,
   "id": "ddbdd1b0",
   "metadata": {},
   "outputs": [
    {
     "data": {
      "text/plain": [
       "c    13.0\n",
       "e    25.0\n",
       "dtype: float64"
      ]
     },
     "execution_count": 148,
     "metadata": {},
     "output_type": "execute_result"
    }
   ],
   "source": [
    "dropped = seriesSum.dropna()\n",
    "dropped"
   ]
  },
  {
   "cell_type": "markdown",
   "id": "31a6441a",
   "metadata": {},
   "source": [
    "fillna function fills all the uncommon indicies instead of dropping them"
   ]
  },
  {
   "cell_type": "code",
   "execution_count": 149,
   "id": "4ee17490",
   "metadata": {},
   "outputs": [
    {
     "data": {
      "text/plain": [
       "a    19.0\n",
       "b    19.0\n",
       "c    13.0\n",
       "d    19.0\n",
       "e    25.0\n",
       "f    19.0\n",
       "g    19.0\n",
       "h    19.0\n",
       "dtype: float64"
      ]
     },
     "execution_count": 149,
     "metadata": {},
     "output_type": "execute_result"
    }
   ],
   "source": [
    "filled = seriesSum.fillna(seriesSum.mean())\n",
    "filled"
   ]
  },
  {
   "cell_type": "code",
   "execution_count": 150,
   "id": "09e6df7c",
   "metadata": {},
   "outputs": [
    {
     "data": {
      "text/plain": [
       "a     1.0\n",
       "b     2.0\n",
       "c    13.0\n",
       "d     4.0\n",
       "e    25.0\n",
       "f    30.0\n",
       "g    40.0\n",
       "h    50.0\n",
       "dtype: float64"
      ]
     },
     "execution_count": 150,
     "metadata": {},
     "output_type": "execute_result"
    }
   ],
   "source": [
    "#fill Nan with zeros before performing addition operation for missing values\n",
    "fillNanWithZeros = series1.add(series2, fill_value = 0)\n",
    "fillNanWithZeros"
   ]
  },
  {
   "cell_type": "markdown",
   "id": "28e9cf6e",
   "metadata": {},
   "source": [
    "Data Operations.\\\n",
    "Data operation can be performed through various built-in methods for faster data processing."
   ]
  },
  {
   "cell_type": "code",
   "execution_count": 151,
   "id": "153da860",
   "metadata": {},
   "outputs": [],
   "source": [
    "import pandas as pd"
   ]
  },
  {
   "cell_type": "code",
   "execution_count": 152,
   "id": "15637ce2",
   "metadata": {},
   "outputs": [
    {
     "data": {
      "text/html": [
       "<div>\n",
       "<style scoped>\n",
       "    .dataframe tbody tr th:only-of-type {\n",
       "        vertical-align: middle;\n",
       "    }\n",
       "\n",
       "    .dataframe tbody tr th {\n",
       "        vertical-align: top;\n",
       "    }\n",
       "\n",
       "    .dataframe thead th {\n",
       "        text-align: right;\n",
       "    }\n",
       "</style>\n",
       "<table border=\"1\" class=\"dataframe\">\n",
       "  <thead>\n",
       "    <tr style=\"text-align: right;\">\n",
       "      <th></th>\n",
       "      <th>movie1</th>\n",
       "      <th>movie2</th>\n",
       "    </tr>\n",
       "  </thead>\n",
       "  <tbody>\n",
       "    <tr>\n",
       "      <th>Tom</th>\n",
       "      <td>5</td>\n",
       "      <td>4</td>\n",
       "    </tr>\n",
       "    <tr>\n",
       "      <th>Jeff</th>\n",
       "      <td>4</td>\n",
       "      <td>5</td>\n",
       "    </tr>\n",
       "    <tr>\n",
       "      <th>Peter</th>\n",
       "      <td>3</td>\n",
       "      <td>2</td>\n",
       "    </tr>\n",
       "    <tr>\n",
       "      <th>Ram</th>\n",
       "      <td>3</td>\n",
       "      <td>3</td>\n",
       "    </tr>\n",
       "    <tr>\n",
       "      <th>Ted</th>\n",
       "      <td>2</td>\n",
       "      <td>4</td>\n",
       "    </tr>\n",
       "    <tr>\n",
       "      <th>Paul</th>\n",
       "      <td>1</td>\n",
       "      <td>2</td>\n",
       "    </tr>\n",
       "  </tbody>\n",
       "</table>\n",
       "</div>"
      ],
      "text/plain": [
       "       movie1  movie2\n",
       "Tom         5       4\n",
       "Jeff        4       5\n",
       "Peter       3       2\n",
       "Ram         3       3\n",
       "Ted         2       4\n",
       "Paul        1       2"
      ]
     },
     "execution_count": 152,
     "metadata": {},
     "output_type": "execute_result"
    }
   ],
   "source": [
    "#Declare movie rating dataframe\n",
    "df_movieRating = pd.DataFrame(\n",
    "                            {'movie1': [5,4,3,3,2,1],\n",
    "                            'movie2': [4,5,2,3,4,2]},\n",
    "                            index = ['Tom','Jeff','Peter','Ram','Ted','Paul'])\n",
    "df_movieRating"
   ]
  },
  {
   "cell_type": "markdown",
   "id": "d83a0069",
   "metadata": {},
   "source": [
    "while performing Data operation, custom functions can be applied with applymap method"
   ]
  },
  {
   "cell_type": "code",
   "execution_count": 153,
   "id": "fd2b167f",
   "metadata": {},
   "outputs": [],
   "source": [
    "def movieGrade(rating):\n",
    "    if rating ==5:\n",
    "        return 'A'\n",
    "    if rating ==4:\n",
    "        return 'B'\n",
    "    if rating ==3:\n",
    "        return 'C'\n",
    "    else:\n",
    "        return 'F'"
   ]
  },
  {
   "cell_type": "code",
   "execution_count": 154,
   "id": "e7fa0815",
   "metadata": {},
   "outputs": [
    {
     "name": "stdout",
     "output_type": "stream",
     "text": [
      "A\n"
     ]
    }
   ],
   "source": [
    "print(movieGrade(5))"
   ]
  },
  {
   "cell_type": "code",
   "execution_count": 155,
   "id": "fa69e31d",
   "metadata": {},
   "outputs": [
    {
     "data": {
      "text/html": [
       "<div>\n",
       "<style scoped>\n",
       "    .dataframe tbody tr th:only-of-type {\n",
       "        vertical-align: middle;\n",
       "    }\n",
       "\n",
       "    .dataframe tbody tr th {\n",
       "        vertical-align: top;\n",
       "    }\n",
       "\n",
       "    .dataframe thead th {\n",
       "        text-align: right;\n",
       "    }\n",
       "</style>\n",
       "<table border=\"1\" class=\"dataframe\">\n",
       "  <thead>\n",
       "    <tr style=\"text-align: right;\">\n",
       "      <th></th>\n",
       "      <th>movie1</th>\n",
       "      <th>movie2</th>\n",
       "    </tr>\n",
       "  </thead>\n",
       "  <tbody>\n",
       "    <tr>\n",
       "      <th>Tom</th>\n",
       "      <td>A</td>\n",
       "      <td>B</td>\n",
       "    </tr>\n",
       "    <tr>\n",
       "      <th>Jeff</th>\n",
       "      <td>B</td>\n",
       "      <td>A</td>\n",
       "    </tr>\n",
       "    <tr>\n",
       "      <th>Peter</th>\n",
       "      <td>C</td>\n",
       "      <td>F</td>\n",
       "    </tr>\n",
       "    <tr>\n",
       "      <th>Ram</th>\n",
       "      <td>C</td>\n",
       "      <td>C</td>\n",
       "    </tr>\n",
       "    <tr>\n",
       "      <th>Ted</th>\n",
       "      <td>F</td>\n",
       "      <td>B</td>\n",
       "    </tr>\n",
       "    <tr>\n",
       "      <th>Paul</th>\n",
       "      <td>F</td>\n",
       "      <td>F</td>\n",
       "    </tr>\n",
       "  </tbody>\n",
       "</table>\n",
       "</div>"
      ],
      "text/plain": [
       "      movie1 movie2\n",
       "Tom        A      B\n",
       "Jeff       B      A\n",
       "Peter      C      F\n",
       "Ram        C      C\n",
       "Ted        F      B\n",
       "Paul       F      F"
      ]
     },
     "execution_count": 155,
     "metadata": {},
     "output_type": "execute_result"
    }
   ],
   "source": [
    "df_movieRating.applymap(movieGrade)"
   ]
  },
  {
   "cell_type": "markdown",
   "id": "395e12d8",
   "metadata": {},
   "source": [
    "Data Operations with Statistical Functions"
   ]
  },
  {
   "cell_type": "code",
   "execution_count": 156,
   "id": "b172da9c",
   "metadata": {},
   "outputs": [
    {
     "data": {
      "text/html": [
       "<div>\n",
       "<style scoped>\n",
       "    .dataframe tbody tr th:only-of-type {\n",
       "        vertical-align: middle;\n",
       "    }\n",
       "\n",
       "    .dataframe tbody tr th {\n",
       "        vertical-align: top;\n",
       "    }\n",
       "\n",
       "    .dataframe thead th {\n",
       "        text-align: right;\n",
       "    }\n",
       "</style>\n",
       "<table border=\"1\" class=\"dataframe\">\n",
       "  <thead>\n",
       "    <tr style=\"text-align: right;\">\n",
       "      <th></th>\n",
       "      <th>Test1</th>\n",
       "      <th>Test2</th>\n",
       "    </tr>\n",
       "  </thead>\n",
       "  <tbody>\n",
       "    <tr>\n",
       "      <th>Jack</th>\n",
       "      <td>95</td>\n",
       "      <td>74</td>\n",
       "    </tr>\n",
       "    <tr>\n",
       "      <th>Lewis</th>\n",
       "      <td>84</td>\n",
       "      <td>85</td>\n",
       "    </tr>\n",
       "    <tr>\n",
       "      <th>Patrick</th>\n",
       "      <td>73</td>\n",
       "      <td>82</td>\n",
       "    </tr>\n",
       "    <tr>\n",
       "      <th>Rich</th>\n",
       "      <td>88</td>\n",
       "      <td>73</td>\n",
       "    </tr>\n",
       "    <tr>\n",
       "      <th>Kelly</th>\n",
       "      <td>82</td>\n",
       "      <td>77</td>\n",
       "    </tr>\n",
       "    <tr>\n",
       "      <th>Paula</th>\n",
       "      <td>61</td>\n",
       "      <td>79</td>\n",
       "    </tr>\n",
       "  </tbody>\n",
       "</table>\n",
       "</div>"
      ],
      "text/plain": [
       "         Test1  Test2\n",
       "Jack        95     74\n",
       "Lewis       84     85\n",
       "Patrick     73     82\n",
       "Rich        88     73\n",
       "Kelly       82     77\n",
       "Paula       61     79"
      ]
     },
     "execution_count": 156,
     "metadata": {},
     "output_type": "execute_result"
    }
   ],
   "source": [
    "df_testScores = pd.DataFrame(\n",
    "                            {'Test1':[95,84,73,88,82,61],\n",
    "                            'Test2':[74,85,82,73,77,79]},\n",
    "                            index = ['Jack','Lewis','Patrick','Rich','Kelly','Paula'])\n",
    "df_testScores"
   ]
  },
  {
   "cell_type": "code",
   "execution_count": 157,
   "id": "3681df78",
   "metadata": {},
   "outputs": [
    {
     "data": {
      "text/plain": [
       "Test1    95\n",
       "Test2    85\n",
       "dtype: int64"
      ]
     },
     "execution_count": 157,
     "metadata": {},
     "output_type": "execute_result"
    }
   ],
   "source": [
    "df_testScores.max()"
   ]
  },
  {
   "cell_type": "code",
   "execution_count": 158,
   "id": "935f1403",
   "metadata": {},
   "outputs": [
    {
     "data": {
      "text/plain": [
       "Test1    80.500000\n",
       "Test2    78.333333\n",
       "dtype: float64"
      ]
     },
     "execution_count": 158,
     "metadata": {},
     "output_type": "execute_result"
    }
   ],
   "source": [
    "df_testScores.mean()"
   ]
  },
  {
   "cell_type": "code",
   "execution_count": 159,
   "id": "17b4d821",
   "metadata": {},
   "outputs": [
    {
     "data": {
      "text/plain": [
       "Test1    11.979149\n",
       "Test2     4.633213\n",
       "dtype: float64"
      ]
     },
     "execution_count": 159,
     "metadata": {},
     "output_type": "execute_result"
    }
   ],
   "source": [
    "df_testScores.std()"
   ]
  },
  {
   "cell_type": "markdown",
   "id": "e4dc4986",
   "metadata": {},
   "source": [
    "Data Operation using groupby function."
   ]
  },
  {
   "cell_type": "code",
   "execution_count": 160,
   "id": "a00a4160",
   "metadata": {},
   "outputs": [
    {
     "data": {
      "text/html": [
       "<div>\n",
       "<style scoped>\n",
       "    .dataframe tbody tr th:only-of-type {\n",
       "        vertical-align: middle;\n",
       "    }\n",
       "\n",
       "    .dataframe tbody tr th {\n",
       "        vertical-align: top;\n",
       "    }\n",
       "\n",
       "    .dataframe thead th {\n",
       "        text-align: right;\n",
       "    }\n",
       "</style>\n",
       "<table border=\"1\" class=\"dataframe\">\n",
       "  <thead>\n",
       "    <tr style=\"text-align: right;\">\n",
       "      <th></th>\n",
       "      <th>first</th>\n",
       "      <th>last</th>\n",
       "    </tr>\n",
       "  </thead>\n",
       "  <tbody>\n",
       "    <tr>\n",
       "      <th>0</th>\n",
       "      <td>George</td>\n",
       "      <td>Bush</td>\n",
       "    </tr>\n",
       "    <tr>\n",
       "      <th>1</th>\n",
       "      <td>Bill</td>\n",
       "      <td>Clinton</td>\n",
       "    </tr>\n",
       "    <tr>\n",
       "      <th>2</th>\n",
       "      <td>Ronald</td>\n",
       "      <td>Regan</td>\n",
       "    </tr>\n",
       "    <tr>\n",
       "      <th>3</th>\n",
       "      <td>Jimmy</td>\n",
       "      <td>Carter</td>\n",
       "    </tr>\n",
       "    <tr>\n",
       "      <th>4</th>\n",
       "      <td>George</td>\n",
       "      <td>Washington</td>\n",
       "    </tr>\n",
       "  </tbody>\n",
       "</table>\n",
       "</div>"
      ],
      "text/plain": [
       "    first        last\n",
       "0  George        Bush\n",
       "1    Bill     Clinton\n",
       "2  Ronald       Regan\n",
       "3   Jimmy      Carter\n",
       "4  George  Washington"
      ]
     },
     "execution_count": 160,
     "metadata": {},
     "output_type": "execute_result"
    }
   ],
   "source": [
    "df_presidentsName = pd.DataFrame({'first':['George','Bill','Ronald','Jimmy','George'],\n",
    "                                 'last':['Bush','Clinton','Regan','Carter','Washington']})\n",
    "df_presidentsName"
   ]
  },
  {
   "cell_type": "code",
   "execution_count": 161,
   "id": "7e3b951d",
   "metadata": {},
   "outputs": [],
   "source": [
    "grouped = df_presidentsName.groupby('first')"
   ]
  },
  {
   "cell_type": "code",
   "execution_count": 162,
   "id": "cec831f4",
   "metadata": {},
   "outputs": [
    {
     "data": {
      "text/html": [
       "<div>\n",
       "<style scoped>\n",
       "    .dataframe tbody tr th:only-of-type {\n",
       "        vertical-align: middle;\n",
       "    }\n",
       "\n",
       "    .dataframe tbody tr th {\n",
       "        vertical-align: top;\n",
       "    }\n",
       "\n",
       "    .dataframe thead th {\n",
       "        text-align: right;\n",
       "    }\n",
       "</style>\n",
       "<table border=\"1\" class=\"dataframe\">\n",
       "  <thead>\n",
       "    <tr style=\"text-align: right;\">\n",
       "      <th></th>\n",
       "      <th>first</th>\n",
       "      <th>last</th>\n",
       "    </tr>\n",
       "  </thead>\n",
       "  <tbody>\n",
       "    <tr>\n",
       "      <th>0</th>\n",
       "      <td>George</td>\n",
       "      <td>Bush</td>\n",
       "    </tr>\n",
       "    <tr>\n",
       "      <th>4</th>\n",
       "      <td>George</td>\n",
       "      <td>Washington</td>\n",
       "    </tr>\n",
       "  </tbody>\n",
       "</table>\n",
       "</div>"
      ],
      "text/plain": [
       "    first        last\n",
       "0  George        Bush\n",
       "4  George  Washington"
      ]
     },
     "execution_count": 162,
     "metadata": {},
     "output_type": "execute_result"
    }
   ],
   "source": [
    "grp_data = grouped.get_group('George')\n",
    "grp_data"
   ]
  },
  {
   "cell_type": "markdown",
   "id": "8d806ffb",
   "metadata": {},
   "source": [
    "Data Operation using Sorting"
   ]
  },
  {
   "cell_type": "code",
   "execution_count": 163,
   "id": "ad85697a",
   "metadata": {},
   "outputs": [
    {
     "data": {
      "text/html": [
       "<div>\n",
       "<style scoped>\n",
       "    .dataframe tbody tr th:only-of-type {\n",
       "        vertical-align: middle;\n",
       "    }\n",
       "\n",
       "    .dataframe tbody tr th {\n",
       "        vertical-align: top;\n",
       "    }\n",
       "\n",
       "    .dataframe thead th {\n",
       "        text-align: right;\n",
       "    }\n",
       "</style>\n",
       "<table border=\"1\" class=\"dataframe\">\n",
       "  <thead>\n",
       "    <tr style=\"text-align: right;\">\n",
       "      <th></th>\n",
       "      <th>first</th>\n",
       "      <th>last</th>\n",
       "    </tr>\n",
       "  </thead>\n",
       "  <tbody>\n",
       "    <tr>\n",
       "      <th>1</th>\n",
       "      <td>Bill</td>\n",
       "      <td>Clinton</td>\n",
       "    </tr>\n",
       "    <tr>\n",
       "      <th>0</th>\n",
       "      <td>George</td>\n",
       "      <td>Bush</td>\n",
       "    </tr>\n",
       "    <tr>\n",
       "      <th>4</th>\n",
       "      <td>George</td>\n",
       "      <td>Washington</td>\n",
       "    </tr>\n",
       "    <tr>\n",
       "      <th>3</th>\n",
       "      <td>Jimmy</td>\n",
       "      <td>Carter</td>\n",
       "    </tr>\n",
       "    <tr>\n",
       "      <th>2</th>\n",
       "      <td>Ronald</td>\n",
       "      <td>Regan</td>\n",
       "    </tr>\n",
       "  </tbody>\n",
       "</table>\n",
       "</div>"
      ],
      "text/plain": [
       "    first        last\n",
       "1    Bill     Clinton\n",
       "0  George        Bush\n",
       "4  George  Washington\n",
       "3   Jimmy      Carter\n",
       "2  Ronald       Regan"
      ]
     },
     "execution_count": 163,
     "metadata": {},
     "output_type": "execute_result"
    }
   ],
   "source": [
    "df_presidentsName.sort_values('first')"
   ]
  },
  {
   "cell_type": "markdown",
   "id": "2d6142bb",
   "metadata": {},
   "source": [
    "Data Standardization"
   ]
  },
  {
   "cell_type": "code",
   "execution_count": 164,
   "id": "cd181ca5",
   "metadata": {},
   "outputs": [
    {
     "data": {
      "text/html": [
       "<div>\n",
       "<style scoped>\n",
       "    .dataframe tbody tr th:only-of-type {\n",
       "        vertical-align: middle;\n",
       "    }\n",
       "\n",
       "    .dataframe tbody tr th {\n",
       "        vertical-align: top;\n",
       "    }\n",
       "\n",
       "    .dataframe thead th {\n",
       "        text-align: right;\n",
       "    }\n",
       "</style>\n",
       "<table border=\"1\" class=\"dataframe\">\n",
       "  <thead>\n",
       "    <tr style=\"text-align: right;\">\n",
       "      <th></th>\n",
       "      <th>Test1</th>\n",
       "      <th>Test2</th>\n",
       "    </tr>\n",
       "  </thead>\n",
       "  <tbody>\n",
       "    <tr>\n",
       "      <th>Jack</th>\n",
       "      <td>95</td>\n",
       "      <td>74</td>\n",
       "    </tr>\n",
       "    <tr>\n",
       "      <th>Lewis</th>\n",
       "      <td>84</td>\n",
       "      <td>85</td>\n",
       "    </tr>\n",
       "    <tr>\n",
       "      <th>Patrick</th>\n",
       "      <td>73</td>\n",
       "      <td>82</td>\n",
       "    </tr>\n",
       "    <tr>\n",
       "      <th>Rich</th>\n",
       "      <td>88</td>\n",
       "      <td>73</td>\n",
       "    </tr>\n",
       "    <tr>\n",
       "      <th>Kelly</th>\n",
       "      <td>82</td>\n",
       "      <td>77</td>\n",
       "    </tr>\n",
       "    <tr>\n",
       "      <th>Paula</th>\n",
       "      <td>61</td>\n",
       "      <td>79</td>\n",
       "    </tr>\n",
       "  </tbody>\n",
       "</table>\n",
       "</div>"
      ],
      "text/plain": [
       "         Test1  Test2\n",
       "Jack        95     74\n",
       "Lewis       84     85\n",
       "Patrick     73     82\n",
       "Rich        88     73\n",
       "Kelly       82     77\n",
       "Paula       61     79"
      ]
     },
     "execution_count": 164,
     "metadata": {},
     "output_type": "execute_result"
    }
   ],
   "source": [
    "df_testScores = pd.DataFrame(\n",
    "                            {'Test1':[95,84,73,88,82,61],\n",
    "                            'Test2':[74,85,82,73,77,79]},\n",
    "                            index = ['Jack','Lewis','Patrick','Rich','Kelly','Paula'])\n",
    "df_testScores"
   ]
  },
  {
   "cell_type": "code",
   "execution_count": 165,
   "id": "7d4c69ac",
   "metadata": {},
   "outputs": [],
   "source": [
    "def standardizeTest(test):\n",
    "    return (test-test.mean()/test.std())"
   ]
  },
  {
   "cell_type": "code",
   "execution_count": 166,
   "id": "cd1a9d53",
   "metadata": {},
   "outputs": [
    {
     "data": {
      "text/plain": [
       "Jack       88.27999\n",
       "Lewis      77.27999\n",
       "Patrick    66.27999\n",
       "Rich       81.27999\n",
       "Kelly      75.27999\n",
       "Paula      54.27999\n",
       "Name: Test1, dtype: float64"
      ]
     },
     "execution_count": 166,
     "metadata": {},
     "output_type": "execute_result"
    }
   ],
   "source": [
    "standardizeTest(df_testScores['Test1'])"
   ]
  },
  {
   "cell_type": "code",
   "execution_count": 167,
   "id": "c09a55d5",
   "metadata": {},
   "outputs": [],
   "source": [
    "def stanrdizeTestScores(dataFrame):\n",
    "    return dataFrame.apply(standardizeTest)"
   ]
  },
  {
   "cell_type": "code",
   "execution_count": 168,
   "id": "f7971314",
   "metadata": {},
   "outputs": [
    {
     "data": {
      "text/html": [
       "<div>\n",
       "<style scoped>\n",
       "    .dataframe tbody tr th:only-of-type {\n",
       "        vertical-align: middle;\n",
       "    }\n",
       "\n",
       "    .dataframe tbody tr th {\n",
       "        vertical-align: top;\n",
       "    }\n",
       "\n",
       "    .dataframe thead th {\n",
       "        text-align: right;\n",
       "    }\n",
       "</style>\n",
       "<table border=\"1\" class=\"dataframe\">\n",
       "  <thead>\n",
       "    <tr style=\"text-align: right;\">\n",
       "      <th></th>\n",
       "      <th>Test1</th>\n",
       "      <th>Test2</th>\n",
       "    </tr>\n",
       "  </thead>\n",
       "  <tbody>\n",
       "    <tr>\n",
       "      <th>Jack</th>\n",
       "      <td>88.27999</td>\n",
       "      <td>57.093088</td>\n",
       "    </tr>\n",
       "    <tr>\n",
       "      <th>Lewis</th>\n",
       "      <td>77.27999</td>\n",
       "      <td>68.093088</td>\n",
       "    </tr>\n",
       "    <tr>\n",
       "      <th>Patrick</th>\n",
       "      <td>66.27999</td>\n",
       "      <td>65.093088</td>\n",
       "    </tr>\n",
       "    <tr>\n",
       "      <th>Rich</th>\n",
       "      <td>81.27999</td>\n",
       "      <td>56.093088</td>\n",
       "    </tr>\n",
       "    <tr>\n",
       "      <th>Kelly</th>\n",
       "      <td>75.27999</td>\n",
       "      <td>60.093088</td>\n",
       "    </tr>\n",
       "    <tr>\n",
       "      <th>Paula</th>\n",
       "      <td>54.27999</td>\n",
       "      <td>62.093088</td>\n",
       "    </tr>\n",
       "  </tbody>\n",
       "</table>\n",
       "</div>"
      ],
      "text/plain": [
       "            Test1      Test2\n",
       "Jack     88.27999  57.093088\n",
       "Lewis    77.27999  68.093088\n",
       "Patrick  66.27999  65.093088\n",
       "Rich     81.27999  56.093088\n",
       "Kelly    75.27999  60.093088\n",
       "Paula    54.27999  62.093088"
      ]
     },
     "execution_count": 168,
     "metadata": {},
     "output_type": "execute_result"
    }
   ],
   "source": [
    "stanrdizeTestScores(df_testScores)"
   ]
  },
  {
   "cell_type": "markdown",
   "id": "481142ce",
   "metadata": {},
   "source": [
    "Pandas Data Operations: Merge, Duplicate and Concatination."
   ]
  },
  {
   "cell_type": "code",
   "execution_count": 169,
   "id": "3f047461",
   "metadata": {},
   "outputs": [],
   "source": [
    "import pandas as pd"
   ]
  },
  {
   "cell_type": "code",
   "execution_count": 175,
   "id": "ee53b1b5",
   "metadata": {},
   "outputs": [],
   "source": [
    "maths = pd.DataFrame({'student':['Tom', 'Jack', 'Dan', 'Ram', 'Jeff','David'],\n",
    "                     'ID':[10,56,31,85,9,22]})\n",
    "science = pd.DataFrame({'student':['Tom', 'Ram', 'David'],\n",
    "                       'ID':[10,12,22]})"
   ]
  },
  {
   "cell_type": "code",
   "execution_count": 176,
   "id": "c1f50e60",
   "metadata": {},
   "outputs": [],
   "source": [
    "#Merged maths and science dataframe and formed a new dataframe named merged\n",
    "merged = pd.merge(maths, science)"
   ]
  },
  {
   "cell_type": "code",
   "execution_count": 177,
   "id": "8ba74737",
   "metadata": {},
   "outputs": [
    {
     "data": {
      "text/html": [
       "<div>\n",
       "<style scoped>\n",
       "    .dataframe tbody tr th:only-of-type {\n",
       "        vertical-align: middle;\n",
       "    }\n",
       "\n",
       "    .dataframe tbody tr th {\n",
       "        vertical-align: top;\n",
       "    }\n",
       "\n",
       "    .dataframe thead th {\n",
       "        text-align: right;\n",
       "    }\n",
       "</style>\n",
       "<table border=\"1\" class=\"dataframe\">\n",
       "  <thead>\n",
       "    <tr style=\"text-align: right;\">\n",
       "      <th></th>\n",
       "      <th>student</th>\n",
       "      <th>ID</th>\n",
       "    </tr>\n",
       "  </thead>\n",
       "  <tbody>\n",
       "    <tr>\n",
       "      <th>0</th>\n",
       "      <td>Tom</td>\n",
       "      <td>10</td>\n",
       "    </tr>\n",
       "    <tr>\n",
       "      <th>1</th>\n",
       "      <td>David</td>\n",
       "      <td>22</td>\n",
       "    </tr>\n",
       "  </tbody>\n",
       "</table>\n",
       "</div>"
      ],
      "text/plain": [
       "  student  ID\n",
       "0     Tom  10\n",
       "1   David  22"
      ]
     },
     "execution_count": 177,
     "metadata": {},
     "output_type": "execute_result"
    }
   ],
   "source": [
    "merged"
   ]
  },
  {
   "cell_type": "code",
   "execution_count": 178,
   "id": "681953f9",
   "metadata": {},
   "outputs": [
    {
     "data": {
      "text/html": [
       "<div>\n",
       "<style scoped>\n",
       "    .dataframe tbody tr th:only-of-type {\n",
       "        vertical-align: middle;\n",
       "    }\n",
       "\n",
       "    .dataframe tbody tr th {\n",
       "        vertical-align: top;\n",
       "    }\n",
       "\n",
       "    .dataframe thead th {\n",
       "        text-align: right;\n",
       "    }\n",
       "</style>\n",
       "<table border=\"1\" class=\"dataframe\">\n",
       "  <thead>\n",
       "    <tr style=\"text-align: right;\">\n",
       "      <th></th>\n",
       "      <th>student</th>\n",
       "      <th>ID_x</th>\n",
       "      <th>ID_y</th>\n",
       "    </tr>\n",
       "  </thead>\n",
       "  <tbody>\n",
       "    <tr>\n",
       "      <th>0</th>\n",
       "      <td>Tom</td>\n",
       "      <td>10</td>\n",
       "      <td>10</td>\n",
       "    </tr>\n",
       "    <tr>\n",
       "      <th>1</th>\n",
       "      <td>Ram</td>\n",
       "      <td>85</td>\n",
       "      <td>12</td>\n",
       "    </tr>\n",
       "    <tr>\n",
       "      <th>2</th>\n",
       "      <td>David</td>\n",
       "      <td>22</td>\n",
       "      <td>22</td>\n",
       "    </tr>\n",
       "  </tbody>\n",
       "</table>\n",
       "</div>"
      ],
      "text/plain": [
       "  student  ID_x  ID_y\n",
       "0     Tom    10    10\n",
       "1     Ram    85    12\n",
       "2   David    22    22"
      ]
     },
     "execution_count": 178,
     "metadata": {},
     "output_type": "execute_result"
    }
   ],
   "source": [
    "#merge with key on students\n",
    "pd.merge(maths, science, on='student')"
   ]
  },
  {
   "cell_type": "code",
   "execution_count": 179,
   "id": "0d141385",
   "metadata": {},
   "outputs": [
    {
     "data": {
      "text/html": [
       "<div>\n",
       "<style scoped>\n",
       "    .dataframe tbody tr th:only-of-type {\n",
       "        vertical-align: middle;\n",
       "    }\n",
       "\n",
       "    .dataframe tbody tr th {\n",
       "        vertical-align: top;\n",
       "    }\n",
       "\n",
       "    .dataframe thead th {\n",
       "        text-align: right;\n",
       "    }\n",
       "</style>\n",
       "<table border=\"1\" class=\"dataframe\">\n",
       "  <thead>\n",
       "    <tr style=\"text-align: right;\">\n",
       "      <th></th>\n",
       "      <th>student_x</th>\n",
       "      <th>ID</th>\n",
       "      <th>student_y</th>\n",
       "    </tr>\n",
       "  </thead>\n",
       "  <tbody>\n",
       "    <tr>\n",
       "      <th>0</th>\n",
       "      <td>Tom</td>\n",
       "      <td>10</td>\n",
       "      <td>Tom</td>\n",
       "    </tr>\n",
       "    <tr>\n",
       "      <th>1</th>\n",
       "      <td>Jack</td>\n",
       "      <td>56</td>\n",
       "      <td>X</td>\n",
       "    </tr>\n",
       "    <tr>\n",
       "      <th>2</th>\n",
       "      <td>Dan</td>\n",
       "      <td>31</td>\n",
       "      <td>X</td>\n",
       "    </tr>\n",
       "    <tr>\n",
       "      <th>3</th>\n",
       "      <td>Ram</td>\n",
       "      <td>85</td>\n",
       "      <td>X</td>\n",
       "    </tr>\n",
       "    <tr>\n",
       "      <th>4</th>\n",
       "      <td>Jeff</td>\n",
       "      <td>9</td>\n",
       "      <td>X</td>\n",
       "    </tr>\n",
       "    <tr>\n",
       "      <th>5</th>\n",
       "      <td>David</td>\n",
       "      <td>22</td>\n",
       "      <td>David</td>\n",
       "    </tr>\n",
       "  </tbody>\n",
       "</table>\n",
       "</div>"
      ],
      "text/plain": [
       "  student_x  ID student_y\n",
       "0       Tom  10       Tom\n",
       "1      Jack  56         X\n",
       "2       Dan  31         X\n",
       "3       Ram  85         X\n",
       "4      Jeff   9         X\n",
       "5     David  22     David"
      ]
     },
     "execution_count": 179,
     "metadata": {},
     "output_type": "execute_result"
    }
   ],
   "source": [
    "#merge left join on key id and also fill NaN values with x\n",
    "pd.merge(maths, science, on='ID',how='left').fillna('X')"
   ]
  },
  {
   "cell_type": "code",
   "execution_count": 180,
   "id": "0a59ca78",
   "metadata": {},
   "outputs": [
    {
     "data": {
      "text/html": [
       "<div>\n",
       "<style scoped>\n",
       "    .dataframe tbody tr th:only-of-type {\n",
       "        vertical-align: middle;\n",
       "    }\n",
       "\n",
       "    .dataframe tbody tr th {\n",
       "        vertical-align: top;\n",
       "    }\n",
       "\n",
       "    .dataframe thead th {\n",
       "        text-align: right;\n",
       "    }\n",
       "</style>\n",
       "<table border=\"1\" class=\"dataframe\">\n",
       "  <thead>\n",
       "    <tr style=\"text-align: right;\">\n",
       "      <th></th>\n",
       "      <th>student</th>\n",
       "      <th>ID</th>\n",
       "    </tr>\n",
       "  </thead>\n",
       "  <tbody>\n",
       "    <tr>\n",
       "      <th>0</th>\n",
       "      <td>Tom</td>\n",
       "      <td>10</td>\n",
       "    </tr>\n",
       "    <tr>\n",
       "      <th>1</th>\n",
       "      <td>Jack</td>\n",
       "      <td>56</td>\n",
       "    </tr>\n",
       "    <tr>\n",
       "      <th>2</th>\n",
       "      <td>Dan</td>\n",
       "      <td>31</td>\n",
       "    </tr>\n",
       "    <tr>\n",
       "      <th>3</th>\n",
       "      <td>Ram</td>\n",
       "      <td>85</td>\n",
       "    </tr>\n",
       "    <tr>\n",
       "      <th>4</th>\n",
       "      <td>Jeff</td>\n",
       "      <td>9</td>\n",
       "    </tr>\n",
       "    <tr>\n",
       "      <th>5</th>\n",
       "      <td>David</td>\n",
       "      <td>22</td>\n",
       "    </tr>\n",
       "    <tr>\n",
       "      <th>6</th>\n",
       "      <td>Tom</td>\n",
       "      <td>10</td>\n",
       "    </tr>\n",
       "    <tr>\n",
       "      <th>7</th>\n",
       "      <td>Ram</td>\n",
       "      <td>12</td>\n",
       "    </tr>\n",
       "    <tr>\n",
       "      <th>8</th>\n",
       "      <td>David</td>\n",
       "      <td>22</td>\n",
       "    </tr>\n",
       "  </tbody>\n",
       "</table>\n",
       "</div>"
      ],
      "text/plain": [
       "  student  ID\n",
       "0     Tom  10\n",
       "1    Jack  56\n",
       "2     Dan  31\n",
       "3     Ram  85\n",
       "4    Jeff   9\n",
       "5   David  22\n",
       "6     Tom  10\n",
       "7     Ram  12\n",
       "8   David  22"
      ]
     },
     "execution_count": 180,
     "metadata": {},
     "output_type": "execute_result"
    }
   ],
   "source": [
    "#Concatenate DataFrames\n",
    "pd.concat([maths,science],ignore_index=True)"
   ]
  },
  {
   "cell_type": "code",
   "execution_count": 181,
   "id": "c11d17f7",
   "metadata": {},
   "outputs": [],
   "source": [
    "#Define new DataFrame with student survey data\n",
    "students =pd.DataFrame({'student':['Tom', 'Jack', 'Tom', 'Ram', 'Jeff','Jack'],\n",
    "                     'ID':[10,56,10,85,9,56]})"
   ]
  },
  {
   "cell_type": "code",
   "execution_count": 182,
   "id": "21082020",
   "metadata": {},
   "outputs": [
    {
     "data": {
      "text/html": [
       "<div>\n",
       "<style scoped>\n",
       "    .dataframe tbody tr th:only-of-type {\n",
       "        vertical-align: middle;\n",
       "    }\n",
       "\n",
       "    .dataframe tbody tr th {\n",
       "        vertical-align: top;\n",
       "    }\n",
       "\n",
       "    .dataframe thead th {\n",
       "        text-align: right;\n",
       "    }\n",
       "</style>\n",
       "<table border=\"1\" class=\"dataframe\">\n",
       "  <thead>\n",
       "    <tr style=\"text-align: right;\">\n",
       "      <th></th>\n",
       "      <th>student</th>\n",
       "      <th>ID</th>\n",
       "    </tr>\n",
       "  </thead>\n",
       "  <tbody>\n",
       "    <tr>\n",
       "      <th>0</th>\n",
       "      <td>Tom</td>\n",
       "      <td>10</td>\n",
       "    </tr>\n",
       "    <tr>\n",
       "      <th>1</th>\n",
       "      <td>Jack</td>\n",
       "      <td>56</td>\n",
       "    </tr>\n",
       "    <tr>\n",
       "      <th>2</th>\n",
       "      <td>Tom</td>\n",
       "      <td>10</td>\n",
       "    </tr>\n",
       "    <tr>\n",
       "      <th>3</th>\n",
       "      <td>Ram</td>\n",
       "      <td>85</td>\n",
       "    </tr>\n",
       "    <tr>\n",
       "      <th>4</th>\n",
       "      <td>Jeff</td>\n",
       "      <td>9</td>\n",
       "    </tr>\n",
       "    <tr>\n",
       "      <th>5</th>\n",
       "      <td>Jack</td>\n",
       "      <td>56</td>\n",
       "    </tr>\n",
       "  </tbody>\n",
       "</table>\n",
       "</div>"
      ],
      "text/plain": [
       "  student  ID\n",
       "0     Tom  10\n",
       "1    Jack  56\n",
       "2     Tom  10\n",
       "3     Ram  85\n",
       "4    Jeff   9\n",
       "5    Jack  56"
      ]
     },
     "execution_count": 182,
     "metadata": {},
     "output_type": "execute_result"
    }
   ],
   "source": [
    "students"
   ]
  },
  {
   "cell_type": "code",
   "execution_count": 183,
   "id": "39e89abf",
   "metadata": {},
   "outputs": [
    {
     "data": {
      "text/plain": [
       "0    False\n",
       "1    False\n",
       "2     True\n",
       "3    False\n",
       "4    False\n",
       "5     True\n",
       "dtype: bool"
      ]
     },
     "execution_count": 183,
     "metadata": {},
     "output_type": "execute_result"
    }
   ],
   "source": [
    "#check for duplicate values.\n",
    "students.duplicated()"
   ]
  },
  {
   "cell_type": "code",
   "execution_count": 185,
   "id": "6657e2ed",
   "metadata": {},
   "outputs": [
    {
     "data": {
      "text/html": [
       "<div>\n",
       "<style scoped>\n",
       "    .dataframe tbody tr th:only-of-type {\n",
       "        vertical-align: middle;\n",
       "    }\n",
       "\n",
       "    .dataframe tbody tr th {\n",
       "        vertical-align: top;\n",
       "    }\n",
       "\n",
       "    .dataframe thead th {\n",
       "        text-align: right;\n",
       "    }\n",
       "</style>\n",
       "<table border=\"1\" class=\"dataframe\">\n",
       "  <thead>\n",
       "    <tr style=\"text-align: right;\">\n",
       "      <th></th>\n",
       "      <th>student</th>\n",
       "      <th>ID</th>\n",
       "    </tr>\n",
       "  </thead>\n",
       "  <tbody>\n",
       "    <tr>\n",
       "      <th>0</th>\n",
       "      <td>Tom</td>\n",
       "      <td>10</td>\n",
       "    </tr>\n",
       "    <tr>\n",
       "      <th>1</th>\n",
       "      <td>Jack</td>\n",
       "      <td>56</td>\n",
       "    </tr>\n",
       "    <tr>\n",
       "      <th>3</th>\n",
       "      <td>Ram</td>\n",
       "      <td>85</td>\n",
       "    </tr>\n",
       "    <tr>\n",
       "      <th>4</th>\n",
       "      <td>Jeff</td>\n",
       "      <td>9</td>\n",
       "    </tr>\n",
       "  </tbody>\n",
       "</table>\n",
       "</div>"
      ],
      "text/plain": [
       "  student  ID\n",
       "0     Tom  10\n",
       "1    Jack  56\n",
       "3     Ram  85\n",
       "4    Jeff   9"
      ]
     },
     "execution_count": 185,
     "metadata": {},
     "output_type": "execute_result"
    }
   ],
   "source": [
    "#drop duplicated values with student as key\n",
    "students.drop_duplicates('student')"
   ]
  },
  {
   "cell_type": "code",
   "execution_count": 186,
   "id": "d6f38333",
   "metadata": {},
   "outputs": [
    {
     "data": {
      "text/html": [
       "<div>\n",
       "<style scoped>\n",
       "    .dataframe tbody tr th:only-of-type {\n",
       "        vertical-align: middle;\n",
       "    }\n",
       "\n",
       "    .dataframe tbody tr th {\n",
       "        vertical-align: top;\n",
       "    }\n",
       "\n",
       "    .dataframe thead th {\n",
       "        text-align: right;\n",
       "    }\n",
       "</style>\n",
       "<table border=\"1\" class=\"dataframe\">\n",
       "  <thead>\n",
       "    <tr style=\"text-align: right;\">\n",
       "      <th></th>\n",
       "      <th>student</th>\n",
       "      <th>ID</th>\n",
       "    </tr>\n",
       "  </thead>\n",
       "  <tbody>\n",
       "    <tr>\n",
       "      <th>0</th>\n",
       "      <td>Tom</td>\n",
       "      <td>10</td>\n",
       "    </tr>\n",
       "    <tr>\n",
       "      <th>1</th>\n",
       "      <td>Jack</td>\n",
       "      <td>56</td>\n",
       "    </tr>\n",
       "    <tr>\n",
       "      <th>3</th>\n",
       "      <td>Ram</td>\n",
       "      <td>85</td>\n",
       "    </tr>\n",
       "    <tr>\n",
       "      <th>4</th>\n",
       "      <td>Jeff</td>\n",
       "      <td>9</td>\n",
       "    </tr>\n",
       "  </tbody>\n",
       "</table>\n",
       "</div>"
      ],
      "text/plain": [
       "  student  ID\n",
       "0     Tom  10\n",
       "1    Jack  56\n",
       "3     Ram  85\n",
       "4    Jeff   9"
      ]
     },
     "execution_count": 186,
     "metadata": {},
     "output_type": "execute_result"
    }
   ],
   "source": [
    "#drop duplicate values with ID as key\n",
    "students.drop_duplicates('ID')"
   ]
  },
  {
   "cell_type": "markdown",
   "id": "f5a39d36",
   "metadata": {},
   "source": [
    "# Reading Files of diff types and writing files to certain file types.\n",
    "pd.read_csv : read files from csc files(comma seperated values).\\\n",
    "pd.to_csv : writes the files into csv files.\\\n",
    "pd.read_excel :reads the excel files.\\\n",
    "pd.to_csv : writes the excel files."
   ]
  },
  {
   "cell_type": "code",
   "execution_count": null,
   "id": "e2b8a610",
   "metadata": {},
   "outputs": [],
   "source": []
  }
 ],
 "metadata": {
  "kernelspec": {
   "display_name": "Python 3",
   "language": "python",
   "name": "python3"
  },
  "language_info": {
   "codemirror_mode": {
    "name": "ipython",
    "version": 3
   },
   "file_extension": ".py",
   "mimetype": "text/x-python",
   "name": "python",
   "nbconvert_exporter": "python",
   "pygments_lexer": "ipython3",
   "version": "3.8.8"
  }
 },
 "nbformat": 4,
 "nbformat_minor": 5
}
